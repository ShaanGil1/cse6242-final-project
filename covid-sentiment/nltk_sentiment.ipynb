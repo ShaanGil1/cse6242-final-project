{
  "nbformat": 4,
  "nbformat_minor": 0,
  "metadata": {
    "colab": {
      "provenance": []
    },
    "kernelspec": {
      "name": "python3",
      "display_name": "Python 3"
    },
    "language_info": {
      "name": "python"
    }
  },
  "cells": [
    {
      "cell_type": "code",
      "execution_count": 1,
      "metadata": {
        "colab": {
          "base_uri": "https://localhost:8080/"
        },
        "id": "pR9__uZmwENr",
        "outputId": "346ec7f3-f0ea-43d4-bb5c-6d27b97d6f9a"
      },
      "outputs": [
        {
          "output_type": "stream",
          "name": "stderr",
          "text": [
            "[nltk_data] Downloading package vader_lexicon to /root/nltk_data...\n"
          ]
        }
      ],
      "source": [
        "\n",
        "import nltk\n",
        "from nltk.sentiment import SentimentIntensityAnalyzer\n",
        "\n",
        "nltk.download('vader_lexicon')\n",
        "\n",
        "import csv"
      ]
    },
    {
      "cell_type": "code",
      "source": [
        "sia = SentimentIntensityAnalyzer()\n",
        "mystring = \"This is a test string\"\n",
        "sia.polarity_scores(mystring)\n"
      ],
      "metadata": {
        "colab": {
          "base_uri": "https://localhost:8080/"
        },
        "id": "c_1Z1wuvwPl5",
        "outputId": "b632b9a0-0a97-42c1-dbc4-1f1fe664e549"
      },
      "execution_count": 2,
      "outputs": [
        {
          "output_type": "execute_result",
          "data": {
            "text/plain": [
              "{'neg': 0.0, 'neu': 1.0, 'pos': 0.0, 'compound': 0.0}"
            ]
          },
          "metadata": {},
          "execution_count": 2
        }
      ]
    },
    {
      "cell_type": "code",
      "source": [
        "# csv file name\n",
        "filename = \"full_data_.csv\"\n",
        "writeFileName = \"full_data_withSentiment.csv\"\n",
        "# initializing the titles and rows list\n",
        "fields = []\n",
        "rows = []\n",
        "\n",
        "# reading csv file\n",
        "with open(filename, 'r') as csvfile:\n",
        "# creating a csv reader object\n",
        "  csvreader = csv.reader(csvfile)\n",
        "\n",
        "# extracting field names through first row\n",
        "  fields = next(csvreader)\n",
        "  myfields = fields\n",
        "  myfields.append('neg')\n",
        "  myfields.append('neu')\n",
        "  myfields.append('pos')\n",
        "  myfields.append('compound')\n",
        "  \n",
        "  # extracting each data row one by one\n",
        "  for row in csvreader:\n",
        "      rows.append(row)\n",
        "\n",
        "\n",
        "# get total number of rows\n",
        "  print(\"Total no. of rows: %d\"%(csvreader.line_num))\n",
        "  total_lines = csvreader.line_num\n",
        "\n",
        "\n",
        "# printing the field names\n",
        "print('Field names are:' + ', '.join(field for field in fields))\n",
        "\n",
        "# doing the work\n",
        "output = []\n",
        "i = 0\n",
        "for row in rows:\n",
        "    #if(i % 10000 == 0):\n",
        "      #print(\"percent done:\", i/total_lines)\n",
        "    #print(row[2])\n",
        "    #print(sia.polarity_scores(row[2]))\n",
        "    result = sia.polarity_scores(row[3])\n",
        "    row.append(result['neg'])\n",
        "    row.append(result['neu'])\n",
        "    row.append(result['pos'])\n",
        "    row.append(result['compound'])\n",
        "    #print('\\n')\n",
        "    output.append(row)\n",
        "    i += 1\n",
        "\n",
        "with open(writeFileName, 'w') as csvfile:\n",
        "    # creating a csv writer object \n",
        "    csvwriter = csv.writer(csvfile)\n",
        "\n",
        "# writing the fields \n",
        "    csvwriter.writerow(myfields)\n",
        "# writing the data rows \n",
        "    csvwriter.writerows(output)\n",
        "    csvfile.close()\n",
        "\n",
        "#print(output)\n",
        "\n",
        "  "
      ],
      "metadata": {
        "id": "KkYQpLVFwTdU",
        "colab": {
          "base_uri": "https://localhost:8080/"
        },
        "outputId": "5eab9291-a705-4874-aea7-2f4b92f98282"
      },
      "execution_count": 5,
      "outputs": [
        {
          "output_type": "stream",
          "name": "stdout",
          "text": [
            "Total no. of rows: 704874\n",
            "Field names are:, Unnamed: 0, tweet_id, text, loc_id, created_at, retweet_count, reply_count, likes_count, quote_count, author_id, source, lang, is_sensitive, bbox, loc_name, loc_type, loc_fname, neg, neu, pos, compound\n"
          ]
        }
      ]
    },
    {
      "cell_type": "code",
      "source": [],
      "metadata": {
        "id": "ovhdbA2By5nY"
      },
      "execution_count": null,
      "outputs": []
    }
  ]
}