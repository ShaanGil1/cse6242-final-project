{
  "nbformat": 4,
  "nbformat_minor": 0,
  "metadata": {
    "colab": {
      "provenance": []
    },
    "kernelspec": {
      "name": "python3",
      "display_name": "Python 3"
    },
    "language_info": {
      "name": "python"
    }
  },
  "cells": [
    {
      "cell_type": "code",
      "execution_count": 1,
      "metadata": {
        "colab": {
          "base_uri": "https://localhost:8080/"
        },
        "id": "pR9__uZmwENr",
        "outputId": "b602bac7-e9e6-4243-9224-742e450ed97a"
      },
      "outputs": [
        {
          "output_type": "stream",
          "name": "stderr",
          "text": [
            "[nltk_data] Downloading package vader_lexicon to /root/nltk_data...\n"
          ]
        }
      ],
      "source": [
        "\n",
        "import nltk\n",
        "from nltk.sentiment import SentimentIntensityAnalyzer\n",
        "\n",
        "nltk.download('vader_lexicon')\n",
        "\n",
        "import csv"
      ]
    },
    {
      "cell_type": "code",
      "source": [
        "sia = SentimentIntensityAnalyzer()\n",
        "mystring = \"This is a test string\"\n",
        "sia.polarity_scores(mystring)\n"
      ],
      "metadata": {
        "colab": {
          "base_uri": "https://localhost:8080/"
        },
        "id": "c_1Z1wuvwPl5",
        "outputId": "4280f26f-98cb-4144-9884-07b94d844bb0"
      },
      "execution_count": 2,
      "outputs": [
        {
          "output_type": "execute_result",
          "data": {
            "text/plain": [
              "{'neg': 0.0, 'neu': 1.0, 'pos': 0.0, 'compound': 0.0}"
            ]
          },
          "metadata": {},
          "execution_count": 2
        }
      ]
    },
    {
      "cell_type": "code",
      "source": [
        "# csv file name\n",
        "filename = \"full_data_.csv\"\n",
        "writeFileName = \"full_data_withSentiment.csv\"\n",
        "# initializing the titles and rows list\n",
        "fields = []\n",
        "rows = []\n",
        "\n",
        "# reading csv file\n",
        "with open(filename, 'r') as csvfile:\n",
        "# creating a csv reader object\n",
        "  csvreader = csv.reader(csvfile)\n",
        "\n",
        "# extracting field names through first row\n",
        "  fields = next(csvreader)\n",
        "  myfields = fields\n",
        "  myfields.append('neg')\n",
        "  myfields.append('neu')\n",
        "  myfields.append('pos')\n",
        "  myfields.append('compound')\n",
        "  \n",
        "  # extracting each data row one by one\n",
        "  for row in csvreader:\n",
        "      rows.append(row)\n",
        "\n",
        "\n",
        "# get total number of rows\n",
        "  print(\"Total no. of rows: %d\"%(csvreader.line_num))\n",
        "\n",
        "\n",
        "# printing the field names\n",
        "print('Field names are:' + ', '.join(field for field in fields))\n",
        "\n",
        "# doing the work\n",
        "output = []\n",
        "i = 0\n",
        "for row in rows:\n",
        "    if(i % 10000 == 0):\n",
        "      print(\"percent done:\", i/539832)\n",
        "    #print(row[2])\n",
        "    #print(sia.polarity_scores(row[2]))\n",
        "    result = sia.polarity_scores(row[3])\n",
        "    row.append(result['neg'])\n",
        "    row.append(result['neu'])\n",
        "    row.append(result['pos'])\n",
        "    row.append(result['compound'])\n",
        "    #print('\\n')\n",
        "    output.append(row)\n",
        "    i += 1\n",
        "\n",
        "with open(writeFileName, 'w') as csvfile:\n",
        "    # creating a csv writer object \n",
        "    csvwriter = csv.writer(csvfile)\n",
        "\n",
        "# writing the fields \n",
        "    csvwriter.writerow(myfields)\n",
        "# writing the data rows \n",
        "    csvwriter.writerows(output)\n",
        "    csvfile.close()\n",
        "\n",
        "#print(output)\n",
        "\n",
        "  "
      ],
      "metadata": {
        "id": "KkYQpLVFwTdU",
        "colab": {
          "base_uri": "https://localhost:8080/"
        },
        "outputId": "c5715063-937d-4c1f-f822-37e3d10ef4f6"
      },
      "execution_count": 4,
      "outputs": [
        {
          "output_type": "stream",
          "name": "stdout",
          "text": [
            "Total no. of rows: 884972\n",
            "Field names are:, Unnamed: 0, tweet_id, text, loc_id, created_at, retweet_count, reply_count, likes_count, quote_count, author_id, source, lang, is_sensitive, bbox, loc_name, loc_type, loc_fname, neg, neu, pos, compound\n",
            "percent done: 0.0\n",
            "percent done: 0.011299792535809042\n",
            "percent done: 0.022599585071618085\n",
            "percent done: 0.03389937760742713\n",
            "percent done: 0.04519917014323617\n",
            "percent done: 0.056498962679045216\n",
            "percent done: 0.06779875521485426\n",
            "percent done: 0.0790985477506633\n",
            "percent done: 0.09039834028647234\n",
            "percent done: 0.10169813282228138\n",
            "percent done: 0.11299792535809043\n",
            "percent done: 0.12429771789389947\n",
            "percent done: 0.13559751042970852\n",
            "percent done: 0.14689730296551756\n",
            "percent done: 0.1581970955013266\n",
            "percent done: 0.16949688803713564\n",
            "percent done: 0.18079668057294468\n",
            "percent done: 0.19209647310875372\n",
            "percent done: 0.20339626564456276\n",
            "percent done: 0.2146960581803718\n",
            "percent done: 0.22599585071618086\n",
            "percent done: 0.2372956432519899\n",
            "percent done: 0.24859543578779894\n",
            "percent done: 0.25989522832360795\n",
            "percent done: 0.27119502085941705\n",
            "percent done: 0.2824948133952261\n",
            "percent done: 0.2937946059310351\n",
            "percent done: 0.30509439846684416\n",
            "percent done: 0.3163941910026532\n",
            "percent done: 0.32769398353846224\n",
            "percent done: 0.3389937760742713\n",
            "percent done: 0.3502935686100803\n",
            "percent done: 0.36159336114588936\n",
            "percent done: 0.3728931536816984\n",
            "percent done: 0.38419294621750744\n",
            "percent done: 0.3954927387533165\n",
            "percent done: 0.4067925312891255\n",
            "percent done: 0.41809232382493455\n",
            "percent done: 0.4293921163607436\n",
            "percent done: 0.4406919088965527\n",
            "percent done: 0.4519917014323617\n",
            "percent done: 0.46329149396817076\n",
            "percent done: 0.4745912865039798\n",
            "percent done: 0.48589107903978884\n",
            "percent done: 0.4971908715755979\n",
            "percent done: 0.5084906641114069\n",
            "percent done: 0.5197904566472159\n",
            "percent done: 0.531090249183025\n",
            "percent done: 0.5423900417188341\n",
            "percent done: 0.5536898342546431\n",
            "percent done: 0.5649896267904522\n",
            "percent done: 0.5762894193262612\n",
            "percent done: 0.5875892118620702\n",
            "percent done: 0.5988890043978793\n"
          ]
        }
      ]
    },
    {
      "cell_type": "code",
      "source": [],
      "metadata": {
        "id": "ovhdbA2By5nY"
      },
      "execution_count": null,
      "outputs": []
    }
  ]
}